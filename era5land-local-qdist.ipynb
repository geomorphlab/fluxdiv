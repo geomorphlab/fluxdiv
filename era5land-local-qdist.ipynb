{
 "cells": [
  {
   "cell_type": "code",
   "execution_count": 1,
   "id": "db36c892-dcf6-49c6-be30-e093d230dcbd",
   "metadata": {},
   "outputs": [],
   "source": [
    "import numpy as np\n",
    "from scipy import signal\n",
    "import matplotlib.pyplot as plt\n",
    "import pandas as pd\n",
    "import xarray as xr\n",
    "import glob\n",
    "from shapely.geometry import Polygon, LineString, Point\n",
    "import pickle\n",
    "plt.rcParams['figure.figsize'] = [10, 10]\n",
    "\n",
    "from matplotlib import cm\n",
    "from matplotlib.colors import ListedColormap\n",
    "tab20 = cm.get_cmap('tab20',20)\n",
    "tab9  = ListedColormap(tab20(np.linspace(0,8/19,9)))"
   ]
  },
  {
   "cell_type": "markdown",
   "id": "f9cb1285-0f81-4e63-8dd9-92910e52f9ff",
   "metadata": {
    "tags": []
   },
   "source": [
    "# Constants and definitions"
   ]
  },
  {
   "cell_type": "code",
   "execution_count": 2,
   "id": "b5a44ebe-af0e-43d2-b5c9-15e3b1bf4c6b",
   "metadata": {},
   "outputs": [],
   "source": [
    "def get_impact_threshold(d,g,rho_f,rho_s,thresholdconstant): #bagnold 1941, p 86, eqn I\n",
    "    return thresholdconstant*((rho_s-rho_f)/rho_f*g*d)**0.5"
   ]
  },
  {
   "cell_type": "code",
   "execution_count": 3,
   "id": "c749325a-0312-46fd-a3d8-a27a1bb35745",
   "metadata": {},
   "outputs": [],
   "source": [
    "# rub' al khali\n",
    "lonlims = [49.0-0.1,56.3-0.1]\n",
    "latlims = [18.0-0.1,23.2-0.1]\n",
    "\n",
    "# constants\n",
    "\n",
    "d     = 300e-6\n",
    "z     = 10\n",
    "g     = 9.8\n",
    "z0    = 1e-3\n",
    "rho_s = 2650\n",
    "rho_f = 1.2\n",
    "kappa = 0.4\n",
    "phi = 0.6\n",
    "\n",
    "fluxconstant      = 5\n",
    "thresholdconstant = 0.082\n",
    "\n",
    "usimth = get_impact_threshold(d,g,rho_f,rho_s,thresholdconstant)\n",
    "\n",
    "r = 6371.229*1e+3 #https://confluence.ecmwf.int/display/CKB/ERA5%3A+data+documentation#ERA5:datadocumentation-Spatialreferencesystems"
   ]
  },
  {
   "cell_type": "code",
   "execution_count": 4,
   "id": "5d8646ea-2244-4a7a-980d-ecdefc97c585",
   "metadata": {},
   "outputs": [],
   "source": [
    "# sort the mass balance:\n",
    "# want an equivalent thickness field\n",
    "# want a land fraction field too\n",
    "# want to make sure erosion can't occur where there is no sand\n",
    "# have to start with a thickness field, then add the dthickness each timestep to make sure of this\n",
    "# qx=0 where np.cos(qa)*qm if eta=0\n",
    "\n",
    "# get qm and uth to not be idealized:\n",
    "# soil moisture and precipitation\n",
    "# z0 from topo\n",
    "# z0 for vegetation\n",
    "\n",
    "# for rub' al khali\n",
    "# maps of 1) A_E area fraction of erodible surface and 2) Z_D equivalent sand thickness\n",
    "# on northwest side: BC is A_E=1, Z_D=inf, southeast side: A_E=0, Z_D=0"
   ]
  },
  {
   "cell_type": "code",
   "execution_count": 5,
   "id": "a13e5f4d-e2dc-4435-8126-357a368e9f5e",
   "metadata": {
    "tags": []
   },
   "outputs": [],
   "source": [
    "dfverts=[[50.52815736, 18.46406547],\n",
    "        [50.76809151, 18.49951671],\n",
    "        [50.88279295, 18.48648637],\n",
    "        [50.93161872, 18.37455539],\n",
    "        [50.91664226, 18.31630878],\n",
    "        [50.99694511, 18.31931122],\n",
    "        [51.07876088, 18.41534758],\n",
    "        [51.09301637, 18.51468053],\n",
    "        [51.20432098, 18.58208886],\n",
    "        [51.44002329, 18.61324037],\n",
    "        [51.63563799, 18.64198234],\n",
    "        [51.73127743, 18.62250047],\n",
    "        [51.88200214, 18.62926307],\n",
    "        [52.06123241, 18.65455065],\n",
    "        [52.32841596, 18.70190271],\n",
    "        [52.41009544, 18.74544072],\n",
    "        [52.57139702, 18.71655723],\n",
    "        [52.60252833, 18.65895232],\n",
    "        [52.68918406, 18.67801159],\n",
    "        [52.821054  , 18.67452564],\n",
    "        [52.95172706, 18.64941551],\n",
    "        [52.99391152, 18.51926534],\n",
    "        [53.09024799, 18.49525753],\n",
    "        [53.11707339, 18.45195882],\n",
    "        [53.19732682, 18.42640817],\n",
    "        [53.37570235, 18.42875643],\n",
    "        [53.46373298, 18.47122871],\n",
    "        [53.51574566, 18.49293376],\n",
    "        [53.59144505, 18.52338321],\n",
    "        [53.80638119, 18.67145884],\n",
    "        [53.96442308, 18.74920205],\n",
    "        [54.00046227, 18.82143981],\n",
    "        [54.0467683 , 18.93281133],\n",
    "        [54.13770064, 19.05373419],\n",
    "        [54.19604263, 19.13363026],\n",
    "        [54.23727649, 19.09450803],\n",
    "        [54.25787276, 19.12057859],\n",
    "        [54.41588108, 19.31898113],\n",
    "        [54.5242389 , 19.44710742],\n",
    "        [54.64824818, 19.53925769],\n",
    "        [54.82072608, 19.60674499],\n",
    "        [54.87589202, 19.56913016],\n",
    "        [55.12528861, 19.7135664 ],\n",
    "        [55.24156718, 19.80470999],\n",
    "        [55.40502707, 19.84506991],\n",
    "        [55.47019971, 19.72337413],\n",
    "        [55.59349585, 19.79986346],\n",
    "        [55.80245589, 19.97240868],\n",
    "        [55.84651607, 20.08747637],\n",
    "        [55.86801479, 20.26810201],\n",
    "        [55.78989754, 20.37552557],\n",
    "        [55.68791666, 20.41665126],\n",
    "        [55.67513153, 20.53211979],\n",
    "        [55.82856663, 20.69405777],\n",
    "        [56.09325843, 20.76658003],\n",
    "        [56.18494234, 20.86229568],\n",
    "        [56.20418117, 20.9796403 ],\n",
    "        [56.1269255 , 21.08131605],\n",
    "        [56.04811994, 21.19200233],\n",
    "        [55.9428198 , 21.26623922],\n",
    "        [55.7647681 , 21.40943226],\n",
    "        [55.64400056, 21.58371644],\n",
    "        [55.48903245, 21.80825688],\n",
    "        [55.43532666, 22.05952333],\n",
    "        [55.38928625, 22.34993027],\n",
    "        [55.32840464, 22.62295961],\n",
    "        [55.22729697, 22.90142631],\n",
    "        [55.07808791, 22.94229528],\n",
    "        [54.9630966 , 22.93358437],\n",
    "        [54.91318445, 22.80513326],\n",
    "        [54.80552439, 22.7402138 ],\n",
    "        [54.64740109, 22.75385627],\n",
    "        [54.48454873, 22.82582428],\n",
    "        [54.28525733, 22.92644977],\n",
    "        [54.13862743, 23.01165366],\n",
    "        [53.94989773, 23.10656844],\n",
    "        [53.72976046, 23.11682675],\n",
    "        [53.55030346, 23.06562733],\n",
    "        [53.4380368 , 22.9769386 ],\n",
    "        [53.45920572, 22.8618176 ],\n",
    "        [53.53436195, 22.80190802],\n",
    "        [53.59387321, 22.72559359],\n",
    "        [53.61827252, 22.57916425],\n",
    "        [53.685039  , 22.43226769],\n",
    "        [53.6470913 , 22.33915233],\n",
    "        [53.60876035, 22.10503822],\n",
    "        [53.65627508, 21.90404738],\n",
    "        [53.6560879 , 21.72177774],\n",
    "        [53.55231308, 21.17814873],\n",
    "        [53.48659065, 20.91994193],\n",
    "        [53.45141579, 20.67573154],\n",
    "        [53.38253023, 20.51722127],\n",
    "        [53.3520789 , 20.3267098 ],\n",
    "        [53.34481044, 20.21723698],\n",
    "        [53.21215814, 20.10673068],\n",
    "        [53.04413946, 20.00082051],\n",
    "        [52.79181145, 19.7652275 ],\n",
    "        [52.37938496, 19.42627677],\n",
    "        [52.09339705, 19.24670552],\n",
    "        [51.65018795, 19.07765693],\n",
    "        [51.33240101, 19.01298624],\n",
    "        [51.12993198, 18.94200714],\n",
    "        [50.82280156, 18.88338642],\n",
    "        [50.62806846, 18.82882316],\n",
    "        [50.36793512, 18.75931586],\n",
    "        [50.18610602, 18.69293169],\n",
    "        [49.83211592, 18.50569423],\n",
    "        [49.50598367, 18.38443099],\n",
    "        [49.10219518, 18.12364326],\n",
    "        [49.08304078, 18.04908759],\n",
    "        [49.54300391, 18.17045819],\n",
    "        [50.22051122, 18.34745439],\n",
    "        [50.52815736, 18.46406547]]\n",
    "\n",
    "dfpoly = Polygon(np.asarray(dfverts))"
   ]
  },
  {
   "cell_type": "code",
   "execution_count": 5,
   "id": "acccc70a-5c47-4141-b056-6a5726764578",
   "metadata": {},
   "outputs": [
    {
     "name": "stderr",
     "output_type": "stream",
     "text": [
      "/local/k10/ag5517/tmp/ipykernel_334143/1148961769.py:36: RuntimeWarning: invalid value encountered in multiply\n",
      "  bedrockele = bedrockele*equivalentthickness/equivalentthickness\n"
     ]
    }
   ],
   "source": [
    "directory = '/g/data/k10/ag5517/rubalkhali-topo/'\n",
    "n = 0\n",
    "with open(directory+'%d_analyzed.pkl'%n, 'rb') as f:\n",
    "    (templongrid0,templatgrid0,thetas0,\n",
    "    areafraction0,bedrockele0,equivalentthickness0,\n",
    "    fulllengthfractiontheta0,lengthweightedslopetheta0,bedformlengththeta0) = pickle.load(f)\n",
    "n = 1\n",
    "with open(directory+'%d_analyzed.pkl'%n, 'rb') as f:\n",
    "    (templongrid1,templatgrid1,thetas1,\n",
    "    areafraction1,bedrockele1,equivalentthickness1,\n",
    "    fulllengthfractiontheta1,lengthweightedslopetheta1,bedformlengththeta1) = pickle.load(f)\n",
    "    \n",
    "templongrid = np.hstack((templongrid0,templongrid1))\n",
    "templatgrid = templatgrid0\n",
    "thetas = thetas0\n",
    "areafraction = np.hstack((areafraction0,areafraction1))\n",
    "bedrockele = np.hstack((bedrockele0,bedrockele1))\n",
    "equivalentthickness = np.hstack((equivalentthickness0,equivalentthickness1))\n",
    "fulllengthfractiontheta = np.hstack((fulllengthfractiontheta0,fulllengthfractiontheta1))\n",
    "lengthweightedslopetheta = np.hstack((lengthweightedslopetheta0,lengthweightedslopetheta1))\n",
    "bedformlengththeta = np.hstack((bedformlengththeta0,bedformlengththeta1))\n",
    "\n",
    "dlon = 0.1\n",
    "dlat = 0.1\n",
    "\n",
    "# convert the slope from eta/deg to eta/distance\n",
    "r = 6371.229*1e+3\n",
    "tlon = np.linspace(templongrid[0]-dlon/2,templongrid[-1]+dlon/2,len(templongrid)+1)\n",
    "tlat = np.linspace(templatgrid[0]-dlat/2,templatgrid[-1]+dlat/2,len(templatgrid)+1)\n",
    "Lon,Lat = np.meshgrid(tlon,tlat)\n",
    "Ly = (r*np.diff(Lat*np.pi/180,axis=0))[:,1:]\n",
    "Lx = (r*np.diff(Lon*np.pi/180,axis=1)*np.sin(np.pi/2-Lat[:,1:]*np.pi/180))[1:]\n",
    "Ls = (Lx*Ly)**0.5\n",
    "lengthweightedslopetheta = lengthweightedslopetheta*(dlon/Ls[:,:,np.newaxis])\n",
    "fulllengththeta = fulllengthfractiontheta*Ls[:,:,np.newaxis]\n",
    "bedrockele = bedrockele*equivalentthickness/equivalentthickness\n",
    "bedformlengththeta = bedformlengththeta*(Ls[:,:,np.newaxis]/dlon)\n",
    "beta = 1/np.nanmean(lengthweightedslopetheta)\n",
    "mask = areafraction/areafraction"
   ]
  },
  {
   "cell_type": "code",
   "execution_count": 4,
   "id": "d0d25847-0167-4736-a0e8-30bd588f86fd",
   "metadata": {},
   "outputs": [],
   "source": [
    "lonOI = 54.0\n",
    "latOI = 22.7\n",
    "lonOIind = 50\n",
    "latOIind = 47"
   ]
  },
  {
   "cell_type": "markdown",
   "id": "e38aa047-ed98-4ec5-b811-045fefca4582",
   "metadata": {
    "jp-MarkdownHeadingCollapsed": true,
    "tags": []
   },
   "source": [
    "# Generation"
   ]
  },
  {
   "cell_type": "code",
   "execution_count": 6,
   "id": "1aafb46b-b964-44d4-9133-a415b028347c",
   "metadata": {},
   "outputs": [
    {
     "name": "stderr",
     "output_type": "stream",
     "text": [
      "/local/k10/ag5517/tmp/ipykernel_1473326/1811226495.py:36: RuntimeWarning: invalid value encountered in multiply\n",
      "  bedrockele = bedrockele*equivalentthickness/equivalentthickness\n"
     ]
    }
   ],
   "source": [
    "directory = '/g/data/k10/ag5517/rubalkhali-topo/'\n",
    "n = 0\n",
    "with open(directory+'%d_analyzed.pkl'%n, 'rb') as f:\n",
    "    (templongrid0,templatgrid0,thetas0,\n",
    "    areafraction0,bedrockele0,equivalentthickness0,\n",
    "    fulllengthfractiontheta0,lengthweightedslopetheta0,bedformlengththeta0) = pickle.load(f)\n",
    "n = 1\n",
    "with open(directory+'%d_analyzed.pkl'%n, 'rb') as f:\n",
    "    (templongrid1,templatgrid1,thetas1,\n",
    "    areafraction1,bedrockele1,equivalentthickness1,\n",
    "    fulllengthfractiontheta1,lengthweightedslopetheta1,bedformlengththeta1) = pickle.load(f)\n",
    "\n",
    "templongrid = np.hstack((templongrid0,templongrid1))\n",
    "templatgrid = templatgrid0\n",
    "thetas = thetas0\n",
    "areafraction = np.hstack((areafraction0,areafraction1))\n",
    "bedrockele = np.hstack((bedrockele0,bedrockele1))\n",
    "equivalentthickness = np.hstack((equivalentthickness0,equivalentthickness1))\n",
    "fulllengthfractiontheta = np.hstack((fulllengthfractiontheta0,fulllengthfractiontheta1))\n",
    "lengthweightedslopetheta = np.hstack((lengthweightedslopetheta0,lengthweightedslopetheta1))\n",
    "bedformlengththeta = np.hstack((bedformlengththeta0,bedformlengththeta1))\n",
    "\n",
    "dlon = 0.1\n",
    "dlat = 0.1\n",
    "\n",
    "# convert the slope from eta/deg to eta/distance\n",
    "r = 6371.229*1e+3\n",
    "tlon = np.linspace(templongrid[0]-dlon/2,templongrid[-1]+dlon/2,len(templongrid)+1)\n",
    "tlat = np.linspace(templatgrid[0]-dlat/2,templatgrid[-1]+dlat/2,len(templatgrid)+1)\n",
    "Lon,Lat = np.meshgrid(tlon,tlat)\n",
    "Ly = (r*np.diff(Lat*np.pi/180,axis=0))[:,1:]\n",
    "Lx = (r*np.diff(Lon*np.pi/180,axis=1)*np.sin(np.pi/2-Lat[:,1:]*np.pi/180))[1:]\n",
    "Ls = (Lx*Ly)**0.5\n",
    "lengthweightedslopetheta = lengthweightedslopetheta*(dlon/Ls[:,:,np.newaxis])\n",
    "fulllengththeta = fulllengthfractiontheta*Ls[:,:,np.newaxis]\n",
    "bedrockele = bedrockele*equivalentthickness/equivalentthickness\n",
    "bedformlengththeta = bedformlengththeta*(Ls[:,:,np.newaxis]/dlon)\n",
    "beta = 1/np.nanmean(lengthweightedslopetheta)\n",
    "mask = areafraction/areafraction"
   ]
  },
  {
   "cell_type": "code",
   "execution_count": 38,
   "id": "13316a5c-7eb2-40bf-84d7-9dd76365f9f0",
   "metadata": {},
   "outputs": [
    {
     "name": "stdout",
     "output_type": "stream",
     "text": [
      "year 2020, month 12\r"
     ]
    }
   ],
   "source": [
    "years  = np.arange(1981,2020+1)\n",
    "months = np.arange(1,12+1)\n",
    "\n",
    "for i in range(len(years)):\n",
    "    for j in range(len(months)):\n",
    "        era5  = xr.open_dataset(glob.glob('/g/data/zz93/era5-land/reanalysis/u10/%d/u10_era5-land_oper_sfc_%d%02d*.nc'%(years[i],years[i],months[j]))[0])\n",
    "        era5v = xr.open_dataset(glob.glob('/g/data/zz93/era5-land/reanalysis/v10/%d/v10_era5-land_oper_sfc_%d%02d*.nc'%(years[i],years[i],months[j]))[0])\n",
    "        era5  = era5.merge(era5v)            \n",
    "        era5  = era5.sel(longitude=lonOI,latitude=latOI)\n",
    "        era5 = era5.assign(qm=(((era5.u10**2+era5.v10**2)*(kappa/np.log(z/z0))**2-usimth**2)*fluxconstant*usimth/g*rho_f).where(((era5.u10**2+era5.v10**2)**0.5*(kappa/np.log(z/z0)))>usimth,0))\n",
    "        era5 = era5.assign(qa=(np.arctan2(era5.v10,era5.u10)))\n",
    "        \n",
    "        qa = np.asarray(era5.qa)\n",
    "        qm = np.asarray(era5.qm)\n",
    "        \n",
    "        # slopes\n",
    "        \n",
    "        tempdirargs = np.argmin(np.abs(thetas[np.newaxis,:]-qa[:,np.newaxis]),axis=1)\n",
    "        l = np.indices(tempdirargs.shape)\n",
    "\n",
    "        tempslopes = np.repeat(lengthweightedslopetheta[lonOIind,latOIind][np.newaxis,:], len(era5.time), axis=0)\n",
    "        windfacingslope = tempslopes[l,tempdirargs]\n",
    "        \n",
    "        templengthfrac = np.repeat(fulllengthfractiontheta[lonOIind,latOIind][np.newaxis,:], len(era5.time), axis=0)\n",
    "        winddirlengthfrac = templengthfrac[l,tempdirargs]\n",
    "        \n",
    "        if (i==0)&(j==0):\n",
    "            qm_store = qm*winddirlengthfrac*(1+beta*windfacingslope)/2\n",
    "        else:\n",
    "            qm_store = np.hstack((qm_store,qm*winddirlengthfrac*(1+beta*windfacingslope)/2))\n",
    "        \n",
    "        print('year %d, month %d'%(years[i],months[j]),end='\\r')\n",
    "        \n",
    "with open(directory+'era5land-qm-%.1flon%.1flat.pkl'%(lonOI,latOI), 'wb') as f:\n",
    "    pickle.dump(qm_store, f)"
   ]
  },
  {
   "cell_type": "markdown",
   "id": "0304a2cd-7cec-4df8-a544-b2f56bcf47d6",
   "metadata": {},
   "source": [
    "# Load"
   ]
  },
  {
   "cell_type": "code",
   "execution_count": 7,
   "id": "28e77e85-a054-4660-b382-4f7e9c47c4fb",
   "metadata": {},
   "outputs": [],
   "source": [
    "with open(directory+'era5land-qm-%.1flon%.1flat.pkl'%(lonOI,latOI), 'rb') as f:\n",
    "    qm_store = pickle.load(f)\n",
    "qm_store = np.ndarray.flatten(qm_store)"
   ]
  },
  {
   "cell_type": "markdown",
   "id": "d09c4895-7a88-4e7d-969d-1729eac6bb84",
   "metadata": {},
   "source": [
    "# Analysis"
   ]
  },
  {
   "cell_type": "code",
   "execution_count": 8,
   "id": "fff30d47-c42f-4040-8cd4-171c7b83c78d",
   "metadata": {},
   "outputs": [],
   "source": [
    "nbins = 200\n",
    "qmbins = np.linspace(0,0.03,nbins)\n",
    "qmbinmids = qmbins[1:]-np.diff(qmbins)[0]/2\n",
    "qmpdf,_ = np.histogram(qm_store,bins=qmbins,density=True)\n",
    "\n",
    "fitind0 = np.argwhere(qmbins>0.006)[0][0]\n",
    "polyfit = np.polyfit(qmbinmids[fitind0:][qmpdf[fitind0:]>0],np.log(qmpdf[fitind0:][qmpdf[fitind0:]>0]),1)\n",
    "Apolyfit = np.exp(polyfit[1])\n",
    "Bpolyfit = polyfit[0]"
   ]
  },
  {
   "cell_type": "code",
   "execution_count": 9,
   "id": "c122c20f-75a4-4d51-8538-02abc2231097",
   "metadata": {},
   "outputs": [
    {
     "data": {
      "text/plain": [
       "Text(0, 0.5, 'PDF')"
      ]
     },
     "execution_count": 9,
     "metadata": {},
     "output_type": "execute_result"
    },
    {
     "data": {
      "image/png": "[encoded data removed]",
      "text/plain": [
       "<Figure size 720x720 with 1 Axes>"
      ]
     },
     "metadata": {
      "needs_background": "light"
     },
     "output_type": "display_data"
    }
   ],
   "source": [
    "plt.plot(qmbinmids[1:],qmpdf[1:])\n",
    "plt.plot(qmbinmids,Apolyfit*np.exp(Bpolyfit*qmbinmids))\n",
    "plt.plot(qmbinmids[fitind0:],Apolyfit*np.exp(Bpolyfit*qmbinmids[fitind0:]))\n",
    "plt.yscale('log')\n",
    "plt.xlim(qmbins[0],qmbins[-1])\n",
    "plt.xlabel('q (kg/m/s)')\n",
    "plt.ylabel('PDF')"
   ]
  },
  {
   "cell_type": "code",
   "execution_count": 41,
   "id": "2b72322f-0165-4527-8091-7c190f09dfb1",
   "metadata": {},
   "outputs": [
    {
     "name": "stderr",
     "output_type": "stream",
     "text": [
      "/g/data/hh5/public/apps/miniconda3/envs/analysis3-22.01/lib/python3.9/site-packages/matplotlib/cbook/__init__.py:1298: ComplexWarning: Casting complex values to real discards the imaginary part\n",
      "  return np.asarray(x, float)\n"
     ]
    },
    {
     "data": {
      "text/plain": [
       "Text(0, 0.5, 'autocorrelation')"
      ]
     },
     "execution_count": 41,
     "metadata": {},
     "output_type": "execute_result"
    },
    {
     "data": {
      "image/png": "[encoded data removed]",
      "text/plain": [
       "<Figure size 720x720 with 1 Axes>"
      ]
     },
     "metadata": {
      "needs_background": "light"
     },
     "output_type": "display_data"
    }
   ],
   "source": [
    "plt.plot(time/60/60/24,c_fourier)\n",
    "plt.plot([1,1],[0,1])\n",
    "plt.plot([365,365],[0,1])\n",
    "plt.xscale('log')\n",
    "plt.xlim(1e-1,365*1.5)\n",
    "plt.ylim(0,1)\n",
    "plt.xlabel('time (days)')\n",
    "plt.ylabel('autocorrelation')"
   ]
  }
 ],
 "metadata": {
  "kernelspec": {
   "display_name": "Python 3 (ipykernel)",
   "language": "python",
   "name": "python3"
  },
  "language_info": {
   "codemirror_mode": {
    "name": "ipython",
    "version": 3
   },
   "file_extension": ".py",
   "mimetype": "text/x-python",
   "name": "python",
   "nbconvert_exporter": "python",
   "pygments_lexer": "ipython3",
   "version": "3.9.12"
  }
 },
 "nbformat": 4,
 "nbformat_minor": 5
}
